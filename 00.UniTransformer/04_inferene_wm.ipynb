{
 "cells": [
  {
   "cell_type": "code",
   "execution_count": null,
   "metadata": {},
   "outputs": [],
   "source": [
    "import os\n",
    "import sys\n",
    "\n",
    "parent_dir = 'Predict-Future-Sales'\n",
    "p_sub = sys.path[0]\n",
    "\n",
    "ride = ''\n",
    "for path in p_sub.split('/'):\n",
    "    if path != parent_dir:\n",
    "        ride = ride + path + '/'\n",
    "    else:\n",
    "        ride = ride + path + '/'\n",
    "        break\n",
    "sys.path[0] = ride\n",
    "\n",
    "import datetime\n",
    "\n",
    "import matplotlib.pyplot as plt\n",
    "\n",
    "from module.lino_module.preprocess import model_loader\n",
    "from module.lino_module.model import TransformerModel\n",
    "from module.lino_module.inference import UniRecurrentInference\n",
    "from module.lino_module.ploter import inference_ploter"
   ]
  },
  {
   "attachments": {},
   "cell_type": "markdown",
   "metadata": {},
   "source": [
    "## データの呼び出し"
   ]
  },
  {
   "cell_type": "code",
   "execution_count": null,
   "metadata": {},
   "outputs": [],
   "source": [
    "dir_path = './models/model/'  # Transformer Model\n",
    "\n",
    "saving= False\n",
    "\n",
    "kwrgs, model, file_name = model_loader(dir_path, TransformerModel)\n",
    "\n",
    "ds = kwrgs['data']\n",
    "step_num = kwrgs['step_num']"
   ]
  },
  {
   "cell_type": "markdown",
   "metadata": {},
   "source": [
    "# 再帰的推論"
   ]
  },
  {
   "attachments": {},
   "cell_type": "markdown",
   "metadata": {},
   "source": [
    "## ４半期ごとの予測(2014,01〜)"
   ]
  },
  {
   "cell_type": "code",
   "execution_count": null,
   "metadata": {},
   "outputs": [],
   "source": [
    "import matplotlib.dates as mdates\n",
    "\n",
    "# 予測日数の設定\n",
    "span = 90  # データの更新頻度日数\n",
    "prediction_days = 365 + 10 * 30  # 推論日数 月数 日数\n",
    "freq = int(prediction_days / step_num)  # 推論回数\n",
    "\n",
    "# 保存先\n",
    "img_path = './imgs/img_quarter/'\n",
    "img_name = f'{model._get_name()}' + file_name + f'span_{span}'\n",
    "\n",
    "# 描画と保存\n",
    "plt.figure(figsize=(15, 4))\n",
    "plt.plot(ds, label='origin', alpha=0.5, linestyle='dashed')\n",
    "\n",
    "# 推論\n",
    "cached = prediction_days\n",
    "for _ in range(prediction_days//span + 1):\n",
    "    data = ds[:-cached]  # 推論開始データ\n",
    "    cached -= span\n",
    "    self2 = UniRecurrentInference(model, **kwrgs)\n",
    "    self2(data)\n",
    "    from_freq = self2.predict(span//step_num)\n",
    "    plt.plot(from_freq)\n",
    "\n",
    "xmin = datetime.datetime.strptime('2013-01', '%Y-%m')\n",
    "xmax = datetime.datetime.strptime('2016-01', '%Y-%m')\n",
    "plt.xlim([xmin,xmax])\n",
    "\n",
    "locator = mdates.MonthLocator(bymonthday=1, interval=3)\n",
    "plt.gca().xaxis.set_major_locator(locator)\n",
    "plt.gca().xaxis.set_major_formatter(mdates.DateFormatter(\"%Y-%m\"))\n",
    "plt.grid(axis='x')\n",
    "plt.legend()\n",
    "plt.title(f'{model._get_name()}\\n'+ file_name + f'\\nspan: {span}')\n",
    "if saving:\n",
    "    plt.savefig(img_path + img_name)\n",
    "plt.show()"
   ]
  },
  {
   "attachments": {},
   "cell_type": "markdown",
   "metadata": {},
   "source": [
    "## 最新データから指定日後の予測推移"
   ]
  },
  {
   "cell_type": "code",
   "execution_count": null,
   "metadata": {},
   "outputs": [],
   "source": [
    "# 予測日数を設定\n",
    "prediction_days = 180  # 推論日数\n",
    "freq = int(prediction_days / step_num)  # 推論回数\n",
    "\n",
    "# 保存先\n",
    "img_path = './imgs/img_inference/'\n",
    "img_name = f'{model._get_name()}' + file_name\n",
    "\n",
    "# 推論\n",
    "self = UniRecurrentInference(model, **kwrgs)\n",
    "self(ds)\n",
    "plot_kw = {'ori': ds,\n",
    "           'pred': self.predict(freq),\n",
    "           'label': f'Forecast after {freq * step_num} days',\n",
    "           'title': f'{model._get_name()}\\n'+ file_name,\n",
    "           'figsize': (15, 4),\n",
    "           'saving': saving,\n",
    "           'path': img_path + img_name}\n",
    "\n",
    "# 描画と保存\n",
    "inference_ploter(**plot_kw)"
   ]
  },
  {
   "attachments": {},
   "cell_type": "markdown",
   "metadata": {},
   "source": [
    "## 指定日前から最新データ日までの予測推移"
   ]
  },
  {
   "cell_type": "code",
   "execution_count": null,
   "metadata": {},
   "outputs": [],
   "source": [
    "# 予測日数の設定\n",
    "prediction_days = 180  # 推論日数\n",
    "freq = int(prediction_days / step_num)  # 推論回数\n",
    "data = ds[:-prediction_days]  # 推論開始データ\n",
    "\n",
    "# 推論\n",
    "self = UniRecurrentInference(model, **kwrgs)\n",
    "self(data)\n",
    "plot_kw = {'ori': ds,\n",
    "           'pred': self.predict(freq),\n",
    "           'label': f'Forecast after {freq * step_num} days',\n",
    "           'title': f'{model._get_name()}\\n'+ file_name,\n",
    "           'figsize': (15, 4),\n",
    "           'saving': False,\n",
    "           'path': None,}\n",
    "# 描画と保存\n",
    "inference_ploter(**plot_kw)"
   ]
  }
 ],
 "metadata": {
  "kernelspec": {
   "display_name": "for_pytorch",
   "language": "python",
   "name": "python3"
  },
  "language_info": {
   "codemirror_mode": {
    "name": "ipython",
    "version": 3
   },
   "file_extension": ".py",
   "mimetype": "text/x-python",
   "name": "python",
   "nbconvert_exporter": "python",
   "pygments_lexer": "ipython3",
   "version": "3.9.15"
  },
  "orig_nbformat": 4,
  "vscode": {
   "interpreter": {
    "hash": "6f415b4ed372d607fec632355f4d17dd884dbf40d29d4f41bd390ce33285f7d0"
   }
  }
 },
 "nbformat": 4,
 "nbformat_minor": 2
}
