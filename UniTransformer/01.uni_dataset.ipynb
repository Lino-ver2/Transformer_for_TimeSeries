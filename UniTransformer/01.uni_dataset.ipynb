{
 "cells": [
  {
   "cell_type": "code",
   "execution_count": 1,
   "metadata": {},
   "outputs": [],
   "source": [
    "import sys\n",
    "\n",
    "parent_dir = 'Predict-Future-Sales'\n",
    "p_sub = sys.path[0]\n",
    "\n",
    "ride = ''\n",
    "for path in p_sub.split('/'):\n",
    "    if path != parent_dir:\n",
    "        ride = ride + path + '/'\n",
    "    else:\n",
    "        ride = ride + path + '/'\n",
    "        break\n",
    "sys.path[0] = ride\n",
    "\n",
    "import numpy as np\n",
    "import pandas as pd\n",
    "import torch\n",
    "\n",
    "from module.lino_module.preprocess import mode_of_freq\n",
    "\n",
    "from typing import Tuple, Optional, Union\n",
    "from numpy import ndarray\n",
    "from pandas import DataFrame, Series, DatetimeIndex\n",
    "from sklearn.preprocessing import StandardScaler, MinMaxScaler\n",
    "from torch.utils.data import DataLoader\n",
    "from torch.utils.data import TensorDataset"
   ]
  },
  {
   "cell_type": "code",
   "execution_count": 2,
   "metadata": {},
   "outputs": [
    {
     "data": {
      "text/plain": [
       "date\n",
       "2013-01-01       0\n",
       "2013-01-02       1\n",
       "2013-01-03       2\n",
       "2013-01-04       3\n",
       "2013-01-05       4\n",
       "              ... \n",
       "2015-10-27    1029\n",
       "2015-10-28    1030\n",
       "2015-10-29    1031\n",
       "2015-10-30    1032\n",
       "2015-10-31    1033\n",
       "Freq: D, Length: 1034, dtype: int64"
      ]
     },
     "execution_count": 2,
     "metadata": {},
     "output_type": "execute_result"
    }
   ],
   "source": [
    "from module.lino_module.preprocess import univariate_dataset\n",
    "\n",
    "data = pd.read_csv('../data/sales_train.csv')\n",
    "data = mode_of_freq(data).item_cnt_day\n",
    "demo = np.arange(len(data))\n",
    "ds = pd.Series(demo , index=data.index)\n",
    "ds"
   ]
  },
  {
   "cell_type": "code",
   "execution_count": 7,
   "metadata": {},
   "outputs": [],
   "source": [
    "dataset_kw = {'data' : ds,\n",
    "              'seq' : 7,\n",
    "              'dilation' : 1,\n",
    "              'src_tgt_seq' : (4, 3),\n",
    "              'step_num' : 2,\n",
    "              'scaler' : None,\n",
    "              'daily' : True,\n",
    "              'weekday' : True,\n",
    "              'weekly' : True,\n",
    "              'monthly' : True,\n",
    "              'batch_size' : 64,\n",
    "              'train_rate' : 0.9}\n",
    "\n",
    "train, test = univariate_dataset(**dataset_kw)"
   ]
  },
  {
   "cell_type": "code",
   "execution_count": 8,
   "metadata": {},
   "outputs": [],
   "source": [
    "src, tgt, label = next(iter(train))"
   ]
  },
  {
   "cell_type": "code",
   "execution_count": 9,
   "metadata": {},
   "outputs": [
    {
     "data": {
      "text/plain": [
       "(torch.Size([64, 4, 5]), torch.Size([64, 3, 5]), torch.Size([64, 3]))"
      ]
     },
     "execution_count": 9,
     "metadata": {},
     "output_type": "execute_result"
    }
   ],
   "source": [
    "src.shape, tgt.shape, label.shape"
   ]
  },
  {
   "cell_type": "code",
   "execution_count": 10,
   "metadata": {},
   "outputs": [
    {
     "data": {
      "text/plain": [
       "(tensor([[0.0000, 0.0000, 0.1667, 0.0000, 0.0000],\n",
       "         [2.0000, 0.0645, 0.5000, 0.0000, 0.0000],\n",
       "         [4.0000, 0.1290, 0.8333, 0.0000, 0.0000],\n",
       "         [6.0000, 0.1935, 0.0000, 0.0227, 0.0000]]),\n",
       " tensor([[ 8.0000,  0.2581,  0.3333,  0.0227,  0.0000],\n",
       "         [10.0000,  0.3226,  0.6667,  0.0227,  0.0000],\n",
       "         [12.0000,  0.3871,  1.0000,  0.0227,  0.0000]]),\n",
       " tensor([12., 13., 14.]))"
      ]
     },
     "execution_count": 10,
     "metadata": {},
     "output_type": "execute_result"
    }
   ],
   "source": [
    "src[0], tgt[0], label[0]"
   ]
  },
  {
   "cell_type": "code",
   "execution_count": null,
   "metadata": {},
   "outputs": [],
   "source": []
  }
 ],
 "metadata": {
  "kernelspec": {
   "display_name": "base",
   "language": "python",
   "name": "python3"
  },
  "language_info": {
   "codemirror_mode": {
    "name": "ipython",
    "version": 3
   },
   "file_extension": ".py",
   "mimetype": "text/x-python",
   "name": "python",
   "nbconvert_exporter": "python",
   "pygments_lexer": "ipython3",
   "version": "3.8.12"
  },
  "orig_nbformat": 4,
  "vscode": {
   "interpreter": {
    "hash": "adf995e9e6a05056a6b4ff6ae57c90b613586299e4c2351ab349682a4c593787"
   }
  }
 },
 "nbformat": 4,
 "nbformat_minor": 2
}
