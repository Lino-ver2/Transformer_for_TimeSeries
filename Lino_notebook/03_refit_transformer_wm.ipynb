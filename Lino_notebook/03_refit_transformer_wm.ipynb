{
 "cells": [
  {
   "cell_type": "code",
   "execution_count": 1,
   "metadata": {},
   "outputs": [
    {
     "name": "stderr",
     "output_type": "stream",
     "text": [
      "/Users/lino/opt/anaconda3/envs/for_pytorch/lib/python3.9/site-packages/tqdm/auto.py:22: TqdmWarning: IProgress not found. Please update jupyter and ipywidgets. See https://ipywidgets.readthedocs.io/en/stable/user_install.html\n",
      "  from .autonotebook import tqdm as notebook_tqdm\n"
     ]
    }
   ],
   "source": [
    "# 自作モジュールの参照先を上書き\n",
    "import sys\n",
    "parent_dir = 'Predict-Future-Sales'\n",
    "p_sub = sys.path[0]\n",
    "\n",
    "ride = ''\n",
    "for path in p_sub.split('/'):\n",
    "    if path != parent_dir:\n",
    "        ride = ride + path + '/'\n",
    "    else:\n",
    "        ride = ride + path + '/'\n",
    "        break\n",
    "sys.path[0] = ride\n",
    "\n",
    "\n",
    "import time\n",
    "import pickle\n",
    "\n",
    "import pandas as pd\n",
    "import numpy as np\n",
    "from sklearn.preprocessing import StandardScaler\n",
    "import torch\n",
    "import torch.nn as nn\n",
    "from torch.optim import Adam\n",
    "import matplotlib.pyplot as plt\n",
    "\n",
    "from module.lino_module.preprocess import mode_of_freq, tde_dataset_wm,\\\n",
    "                                          select_device\n",
    "from module.lino_module.model import TransformerModel, training, learning_plot,\\\n",
    "                                     confirmation, to_time_series,\\\n",
    "                                     confirmation_plot\n",
    "\n",
    "# 乱数固定\n",
    "seed = 42\n",
    "np.random.seed(seed)\n",
    "torch.manual_seed(seed)\n",
    "torch.cuda.manual_seed(seed)\n",
    "torch.backends.cudnn.deterministic = True\n",
    "torch.use_deterministic_algorithms = True"
   ]
  },
  {
   "attachments": {},
   "cell_type": "markdown",
   "metadata": {},
   "source": [
    "## データセットの準備"
   ]
  },
  {
   "cell_type": "code",
   "execution_count": 19,
   "metadata": {},
   "outputs": [],
   "source": [
    "data = pd.read_csv('../data/sales_train.csv')\n",
    "data = mode_of_freq(data).item_cnt_day\n",
    "seq = 7\n",
    "d_model = 24\n",
    "dilation = 2\n",
    "src_tgt_seq = (5, 4)\n",
    "step_num = 3\n",
    "scaler = StandardScaler\n",
    "\n",
    "kwrgs = {'data': data,\n",
    "         'seq': seq,\n",
    "         'd_model': d_model,\n",
    "         'dilation': dilation,\n",
    "         'src_tgt_seq': src_tgt_seq,\n",
    "         'step_num': step_num,\n",
    "         'daily': False,\n",
    "         'weekly': True,\n",
    "         'monthly': True,\n",
    "         'scaler': scaler,\n",
    "         'batch_size': 64,\n",
    "         'train_rate': 1.0}\n",
    "\n",
    "train, test = tde_dataset_wm(**kwrgs)"
   ]
  },
  {
   "attachments": {},
   "cell_type": "markdown",
   "metadata": {},
   "source": [
    "## Transformerモデルの準備"
   ]
  },
  {
   "cell_type": "code",
   "execution_count": 20,
   "metadata": {},
   "outputs": [],
   "source": [
    "# device = select_device() # mps では Transformer の attention でエラー\n",
    "device = torch.device('cpu')\n",
    "\n",
    "dim = d_model * (kwrgs['daily'] + kwrgs['weekly'] + kwrgs['monthly'] + 1)\n",
    "transformer = TransformerModel(d_model=dim, nhead=8, device=device).to(device)\n",
    "# criterion = RMSELoss()  # 論文ではRMSELoss\n",
    "criterion = nn.MSELoss().to(device)\n",
    "\n",
    "# 学習率その他は論文の値を参考\n",
    "warmup_steps = 5000\n",
    "lr = d_model**0.5 * min(step_num**0.5, step_num * warmup_steps**(-1.5))\n",
    "optimizer = Adam(transformer.parameters(), lr=1e-5, betas=(0.95, 0.98), eps=10e-9)"
   ]
  },
  {
   "attachments": {},
   "cell_type": "markdown",
   "metadata": {},
   "source": [
    "## 訓練"
   ]
  },
  {
   "cell_type": "code",
   "execution_count": 21,
   "metadata": {},
   "outputs": [
    {
     "name": "stdout",
     "output_type": "stream",
     "text": [
      "--------------------- start ----------------------\n",
      "                     epoch_0                      \n",
      "train_loss:  0.9801 | validation_loss:  0.9036 | test_loss:  nan\n",
      "                     epoch_10                     \n",
      "train_loss:  0.5438 | validation_loss:  0.456 | test_loss:  nan\n",
      "                     epoch_20                     \n",
      "train_loss:  0.4281 | validation_loss:  0.3524 | test_loss:  nan\n",
      "                     epoch_30                     \n",
      "train_loss:  0.3741 | validation_loss:  0.296 | test_loss:  nan\n",
      "                     epoch_40                     \n",
      "train_loss:  0.337 | validation_loss:  0.2597 | test_loss:  nan\n",
      "                     epoch_50                     \n",
      "train_loss:  0.3043 | validation_loss:  0.2337 | test_loss:  nan\n",
      "                     epoch_60                     \n",
      "train_loss:  0.2744 | validation_loss:  0.2174 | test_loss:  nan\n",
      "                     epoch_70                     \n",
      "train_loss:  0.2543 | validation_loss:  0.2012 | test_loss:  nan\n",
      "                     epoch_80                     \n",
      "train_loss:  0.2421 | validation_loss:  0.1889 | test_loss:  nan\n",
      "                     epoch_90                     \n",
      "train_loss:  0.2269 | validation_loss:  0.1785 | test_loss:  nan\n",
      "------------------- complete!! -------------------\n",
      "Execution_time: 232.26\n"
     ]
    }
   ],
   "source": [
    "epochs = 100\n",
    "training_kwrgs = {'model': transformer,\n",
    "                  'train': train,\n",
    "                  'test': test,\n",
    "                  'device': device,\n",
    "                  'criterion': criterion,\n",
    "                  'optimizer': optimizer,\n",
    "                  'epochs': epochs,\n",
    "                  'verbose': 10,\n",
    "                  'center': 50}\n",
    "transformer, _, _, _ = training(**training_kwrgs)"
   ]
  },
  {
   "attachments": {},
   "cell_type": "markdown",
   "metadata": {},
   "source": [
    "## モデルの保存"
   ]
  },
  {
   "cell_type": "code",
   "execution_count": 22,
   "metadata": {},
   "outputs": [],
   "source": [
    "name = ''\n",
    "del kwrgs['batch_size'], kwrgs['train_rate']\n",
    "for key, value in kwrgs.items():\n",
    "    if key=='data':\n",
    "        pass\n",
    "    elif key=='scaler':\n",
    "        name += f'{key}({value.__name__})_'\n",
    "    else:\n",
    "        name += f'{key}({value})_'\n",
    "\n",
    "kwrgs['model'] = transformer\n",
    "model_dir = './models_wm/'\n",
    "model_name = f'epochs({epochs})' + name + '.pkl'\n",
    "with open(model_dir + model_name, 'wb') as f:\n",
    "    pickle.dump(kwrgs, f)"
   ]
  }
 ],
 "metadata": {
  "kernelspec": {
   "display_name": "for_pytorch",
   "language": "python",
   "name": "python3"
  },
  "language_info": {
   "codemirror_mode": {
    "name": "ipython",
    "version": 3
   },
   "file_extension": ".py",
   "mimetype": "text/x-python",
   "name": "python",
   "nbconvert_exporter": "python",
   "pygments_lexer": "ipython3",
   "version": "3.9.15 (main, Nov 24 2022, 08:29:02) \n[Clang 14.0.6 ]"
  },
  "orig_nbformat": 4,
  "vscode": {
   "interpreter": {
    "hash": "6f415b4ed372d607fec632355f4d17dd884dbf40d29d4f41bd390ce33285f7d0"
   }
  }
 },
 "nbformat": 4,
 "nbformat_minor": 2
}
