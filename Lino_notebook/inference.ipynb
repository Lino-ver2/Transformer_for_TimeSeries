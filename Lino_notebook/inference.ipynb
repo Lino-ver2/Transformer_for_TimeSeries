{
 "cells": [
  {
   "cell_type": "code",
   "execution_count": 2,
   "metadata": {},
   "outputs": [],
   "source": [
    "import sys\n",
    "\n",
    "parent_dir = 'Predict-Future-Sales'\n",
    "p_sub = sys.path[0]\n",
    "\n",
    "ride = ''\n",
    "for path in p_sub.split('/'):\n",
    "    if path != parent_dir:\n",
    "        ride = ride + path + '/'\n",
    "    else:\n",
    "        ride = ride + path + '/'\n",
    "        break\n",
    "sys.path[0] = ride"
   ]
  },
  {
   "cell_type": "code",
   "execution_count": 3,
   "metadata": {},
   "outputs": [],
   "source": [
    "from typing import Tuple\n",
    "\n",
    "import numpy as np\n",
    "import pandas as pd\n",
    "import torch\n",
    "\n",
    "from module.lino_module.preprocess import _mode_of_freq"
   ]
  },
  {
   "cell_type": "code",
   "execution_count": 4,
   "metadata": {},
   "outputs": [],
   "source": [
    "import pickle\n",
    "import pathlib\n",
    "import glob\n",
    "\n",
    "model_path = './models/'\n",
    "p_file = pathlib.Path(model_path)\n",
    "file_name = [i.name for i in p_file.iterdir()]\n",
    "\n",
    "with open (model_path + file_name[0], 'rb') as f:\n",
    "    obj = pickle.load(f)"
   ]
  },
  {
   "cell_type": "code",
   "execution_count": 5,
   "metadata": {},
   "outputs": [],
   "source": [
    "def tde_for_inference(ds: pd.Series, seq, d_model, dilation) -> np.ndarray:\n",
    "    for_array = []\n",
    "    for i in range(d_model):\n",
    "        if i != 0:\n",
    "            for_array.append(ds[-seq - i * dilation: -i * dilation])\n",
    "        else:\n",
    "            for_array.append(ds[-seq:])\n",
    "    time_delay_embedded = np.array([content for content in reversed(for_array)])\n",
    "\n",
    "    return time_delay_embedded\n",
    "\n",
    "def _src_tgt_split(tded: np.ndarray,\n",
    "                   src_seq: int,\n",
    "                   tgt_seq: int) -> Tuple[np.ndarray]:\n",
    "    \"\"\"エンコーダ入力とデコーダ入力への分割\"\"\"\n",
    "    src = tded[:, :src_seq]\n",
    "    tgt = tded[:, -tgt_seq:]\n",
    "    return src, tgt"
   ]
  },
  {
   "cell_type": "code",
   "execution_count": 6,
   "metadata": {},
   "outputs": [],
   "source": [
    "model = obj['model']\n",
    "env_kwrgs = obj['env']\n",
    "\n",
    "def inference(model, data, seq, d_model, dilation, src_tgt_seq):\n",
    "    src_seq, tgt_seq = src_tgt_seq\n",
    "    df = _mode_of_freq(data).item_cnt_day.values\n",
    "    df = tde_for_inference(df, seq, d_model, dilation)\n",
    "    src, tgt = _src_tgt_split(df, src_seq, tgt_seq)\n",
    "\n",
    "    src = torch.from_numpy(src.astype(np.float32)).T.unsqueeze(0)\n",
    "    tgt = torch.from_numpy(tgt.astype(np.float32)).T.unsqueeze(0)\n",
    "    model.eval()\n",
    "    return model(src, tgt)\n"
   ]
  },
  {
   "cell_type": "code",
   "execution_count": 7,
   "metadata": {},
   "outputs": [
    {
     "data": {
      "text/plain": [
       "tensor([[[1.7198],\n",
       "         [1.4385]]], grad_fn=<ViewBackward0>)"
      ]
     },
     "execution_count": 7,
     "metadata": {},
     "output_type": "execute_result"
    }
   ],
   "source": [
    "inference(model, **env_kwrgs)"
   ]
  }
 ],
 "metadata": {
  "kernelspec": {
   "display_name": "for_pytorch",
   "language": "python",
   "name": "python3"
  },
  "language_info": {
   "codemirror_mode": {
    "name": "ipython",
    "version": 3
   },
   "file_extension": ".py",
   "mimetype": "text/x-python",
   "name": "python",
   "nbconvert_exporter": "python",
   "pygments_lexer": "ipython3",
   "version": "3.9.15"
  },
  "orig_nbformat": 4,
  "vscode": {
   "interpreter": {
    "hash": "6f415b4ed372d607fec632355f4d17dd884dbf40d29d4f41bd390ce33285f7d0"
   }
  }
 },
 "nbformat": 4,
 "nbformat_minor": 2
}
