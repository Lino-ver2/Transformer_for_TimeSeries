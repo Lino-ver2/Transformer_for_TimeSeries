{
 "cells": [
  {
   "cell_type": "code",
   "execution_count": 1,
   "metadata": {},
   "outputs": [
    {
     "name": "stderr",
     "output_type": "stream",
     "text": [
      "/Users/lino/opt/anaconda3/envs/for_pytorch/lib/python3.9/site-packages/tqdm/auto.py:22: TqdmWarning: IProgress not found. Please update jupyter and ipywidgets. See https://ipywidgets.readthedocs.io/en/stable/user_install.html\n",
      "  from .autonotebook import tqdm as notebook_tqdm\n"
     ]
    }
   ],
   "source": [
    "import sys\n",
    "\n",
    "parent_dir = 'Predict-Future-Sales'\n",
    "p_sub = sys.path[0]\n",
    "\n",
    "ride = ''\n",
    "for path in p_sub.split('/'):\n",
    "    if path != parent_dir:\n",
    "        ride = ride + path + '/'\n",
    "    else:\n",
    "        ride = ride + path + '/'\n",
    "        break\n",
    "sys.path[0] = ride\n",
    "\n",
    "import datetime\n",
    "from typing import Tuple\n",
    "\n",
    "import pandas as pd\n",
    "import numpy as np\n",
    "from numpy import ndarray\n",
    "from sklearn.preprocessing import StandardScaler\n",
    "import torch\n",
    "from torch import Tensor\n",
    "\n",
    "from module.lino_module.preprocess import _mode_of_freq, _src_tgt_split\n",
    "\n",
    "from typing import Tuple, Optional\n",
    "from pandas import DataFrame, Series, DatetimeIndex\n",
    "from numpy import ndarray\n",
    "from torch.utils.data import DataLoader"
   ]
  },
  {
   "cell_type": "code",
   "execution_count": 2,
   "metadata": {},
   "outputs": [],
   "source": [
    "def recurrent_inference(\n",
    "                    rec_freq: int,\n",
    "                    model: object,\n",
    "                    data: pd.DataFrame,\n",
    "                    seq: int,\n",
    "                    d_model: int,\n",
    "                    dilation: int,\n",
    "                    src_tgt_seq: Tuple[int],\n",
    "                    ) -> pd.Series:\n",
    "    \"\"\"再帰的に推論を行う\n",
    "    引数:\n",
    "        rec_freq: 推論回数\n",
    "        model: 訓練済みモデル\n",
    "        data: オリジナルデータ\n",
    "        seq: 訓練条件の seq\n",
    "        d_model: 訓練条件の d_model\n",
    "        dilation: 訓練条件の dilation\n",
    "        src_tgt_seq: 訓練条件の src_tgt_seq,\n",
    "    \"\"\"\n",
    "    # 日ごとの基本統計量\n",
    "    sum_freq = _mode_of_freq(data).item_cnt_day\n",
    "    start_idx = sum_freq.index[-1] + datetime.timedelta(1)\n",
    "    # スケーラー\n",
    "    scs = StandardScaler().fit(sum_freq.values.reshape(-1, 1))\n",
    "    sum_freq = scs.transform(sum_freq.values.reshape(-1, 1)).reshape(-1)\n",
    "    # 再帰的な推論\n",
    "    src_seq, tgt_seq = src_tgt_seq\n",
    "    step_num = 1  # ハードコードしてるけど後日改修\n",
    "    inference_seq = np.array([])\n",
    "    for _ in range(rec_freq):\n",
    "        embed = _tde_for_inference(sum_freq, seq, d_model, dilation)\n",
    "        src, tgt = _src_tgt_split(embed, src_seq, tgt_seq)\n",
    "        output = _inference(model, src, tgt).reshape(-1)\n",
    "        pred = output[-step_num:]\n",
    "        sum_freq = np.append(sum_freq, pred.reshape(-1))\n",
    "        inversed = scs.inverse_transform(pred.reshape(-1, 1)).reshape(-1)\n",
    "        inference_seq = np.append(inference_seq, np.round(inversed))\n",
    "    # 推論結果をSeries型へ整形\n",
    "    end_idx = start_idx + datetime.timedelta(len(inference_seq) - 1)\n",
    "    index = pd.date_range(start_idx, end_idx)\n",
    "    return pd.Series(inference_seq, index)\n",
    "\n",
    "\n",
    "def _inference(model: object, src: Tensor, tgt: Tensor) -> Tensor:\n",
    "    src = torch.from_numpy(src.astype(np.float32)).T.unsqueeze(0)\n",
    "    tgt = torch.from_numpy(tgt.astype(np.float32)).T.unsqueeze(0)\n",
    "    model.eval()\n",
    "    output = model(src, tgt).detach().numpy()\n",
    "    return output\n",
    "\n",
    "\n",
    "def _tde_for_inference(\n",
    "                    ds: pd.Series,\n",
    "                    seq: int,\n",
    "                    d_model: int,\n",
    "                    dilation: int\n",
    "                    ) -> ndarray:\n",
    "    for_array = []\n",
    "    for i in range(d_model):\n",
    "        if i != 0:\n",
    "            for_array.append(ds[-seq - i * (dilation + 1): -i * (dilation + 1)])\n",
    "        else:\n",
    "            for_array.append(ds[-seq:])\n",
    "    time_delay_embedded = np.array([content for content in reversed(for_array)])\n",
    "    return time_delay_embedded\n"
   ]
  },
  {
   "cell_type": "code",
   "execution_count": 68,
   "metadata": {},
   "outputs": [
    {
     "data": {
      "text/plain": [
       "Index(['data', 'weekly', 'monthly'], dtype='object')"
      ]
     },
     "execution_count": 68,
     "metadata": {},
     "output_type": "execute_result"
    }
   ],
   "source": [
    "data = pd.read_csv('../data/sales_train.csv')\n",
    "df = _mode_of_freq(data).item_cnt_day\n",
    "demo = np.arange(1000)\n",
    "monthly_label = np.array(df.index.month)[-len(demo):]\n",
    "weekly_num = list(np.arange(0, 7))\n",
    "index = demo.copy()\n",
    "weekly_label = weekly_num * (len(index) // 7) + weekly_num[:len(index) % 7]\n",
    "\n",
    "new = pd.DataFrame(demo, columns=['data'])\n",
    "new['weekly'] = weekly_label\n",
    "new['monthly'] = monthly_label"
   ]
  },
  {
   "cell_type": "code",
   "execution_count": 130,
   "metadata": {},
   "outputs": [
    {
     "data": {
      "text/html": [
       "<div>\n",
       "<style scoped>\n",
       "    .dataframe tbody tr th:only-of-type {\n",
       "        vertical-align: middle;\n",
       "    }\n",
       "\n",
       "    .dataframe tbody tr th {\n",
       "        vertical-align: top;\n",
       "    }\n",
       "\n",
       "    .dataframe thead th {\n",
       "        text-align: right;\n",
       "    }\n",
       "</style>\n",
       "<table border=\"1\" class=\"dataframe\">\n",
       "  <thead>\n",
       "    <tr style=\"text-align: right;\">\n",
       "      <th></th>\n",
       "      <th>data</th>\n",
       "      <th>weekly</th>\n",
       "      <th>monthly</th>\n",
       "    </tr>\n",
       "  </thead>\n",
       "  <tbody>\n",
       "    <tr>\n",
       "      <th>990</th>\n",
       "      <td>990</td>\n",
       "      <td>3</td>\n",
       "      <td>10</td>\n",
       "    </tr>\n",
       "    <tr>\n",
       "      <th>991</th>\n",
       "      <td>991</td>\n",
       "      <td>4</td>\n",
       "      <td>10</td>\n",
       "    </tr>\n",
       "    <tr>\n",
       "      <th>992</th>\n",
       "      <td>992</td>\n",
       "      <td>5</td>\n",
       "      <td>10</td>\n",
       "    </tr>\n",
       "    <tr>\n",
       "      <th>993</th>\n",
       "      <td>993</td>\n",
       "      <td>6</td>\n",
       "      <td>10</td>\n",
       "    </tr>\n",
       "    <tr>\n",
       "      <th>994</th>\n",
       "      <td>994</td>\n",
       "      <td>0</td>\n",
       "      <td>10</td>\n",
       "    </tr>\n",
       "    <tr>\n",
       "      <th>995</th>\n",
       "      <td>995</td>\n",
       "      <td>1</td>\n",
       "      <td>10</td>\n",
       "    </tr>\n",
       "    <tr>\n",
       "      <th>996</th>\n",
       "      <td>996</td>\n",
       "      <td>2</td>\n",
       "      <td>10</td>\n",
       "    </tr>\n",
       "    <tr>\n",
       "      <th>997</th>\n",
       "      <td>997</td>\n",
       "      <td>3</td>\n",
       "      <td>10</td>\n",
       "    </tr>\n",
       "    <tr>\n",
       "      <th>998</th>\n",
       "      <td>998</td>\n",
       "      <td>4</td>\n",
       "      <td>10</td>\n",
       "    </tr>\n",
       "    <tr>\n",
       "      <th>999</th>\n",
       "      <td>999</td>\n",
       "      <td>5</td>\n",
       "      <td>10</td>\n",
       "    </tr>\n",
       "  </tbody>\n",
       "</table>\n",
       "</div>"
      ],
      "text/plain": [
       "     data  weekly  monthly\n",
       "990   990       3       10\n",
       "991   991       4       10\n",
       "992   992       5       10\n",
       "993   993       6       10\n",
       "994   994       0       10\n",
       "995   995       1       10\n",
       "996   996       2       10\n",
       "997   997       3       10\n",
       "998   998       4       10\n",
       "999   999       5       10"
      ]
     },
     "execution_count": 130,
     "metadata": {},
     "output_type": "execute_result"
    }
   ],
   "source": [
    "new.tail(10)"
   ]
  },
  {
   "cell_type": "code",
   "execution_count": 142,
   "metadata": {},
   "outputs": [],
   "source": [
    "embeded = []\n",
    "for column in reversed(new.columns):\n",
    "    trg = getattr(new, column)\n",
    "    tded = _tde_for_inference(trg, seq=7, d_model=4, dilation=1)\n",
    "    embeded.append(tded.tolist())\n",
    "embeded = np.array(embeded)"
   ]
  },
  {
   "cell_type": "code",
   "execution_count": 143,
   "metadata": {},
   "outputs": [
    {
     "data": {
      "text/plain": [
       "array([[[ 10,  10,  10,  10,  10,  10,  10],\n",
       "        [ 10,  10,  10,  10,  10,  10,  10],\n",
       "        [ 10,  10,  10,  10,  10,  10,  10],\n",
       "        [ 10,  10,  10,  10,  10,  10,  10]],\n",
       "\n",
       "       [[  0,   1,   2,   3,   4,   5,   6],\n",
       "        [  2,   3,   4,   5,   6,   0,   1],\n",
       "        [  4,   5,   6,   0,   1,   2,   3],\n",
       "        [  6,   0,   1,   2,   3,   4,   5]],\n",
       "\n",
       "       [[987, 988, 989, 990, 991, 992, 993],\n",
       "        [989, 990, 991, 992, 993, 994, 995],\n",
       "        [991, 992, 993, 994, 995, 996, 997],\n",
       "        [993, 994, 995, 996, 997, 998, 999]]])"
      ]
     },
     "execution_count": 143,
     "metadata": {},
     "output_type": "execute_result"
    }
   ],
   "source": [
    "embeded"
   ]
  },
  {
   "cell_type": "code",
   "execution_count": null,
   "metadata": {},
   "outputs": [],
   "source": [
    "class Inferece():\n",
    "    def __init__(self, model, ds, seq, d_model, dilation):\n",
    "        self.model = model\n",
    "        self.ds = ds\n",
    "        self.seq = seq\n",
    "        self.d_model = d_model\n",
    "        self.dilation = dilation\n",
    "\n",
    "        self.df = pd.DataFrame(ds, columns='data')\n",
    "        self.df['weekly'] = ds.index.month()\n",
    "        self.df['monthly'] = weekly_num * (len(ds) // 7) + weekly_num[:len(ds) % 7]\n",
    "        self.inference = None\n",
    "        self.embedded = None\n",
    "\n",
    "    def predict(self, freq):\n",
    "        return \n",
    "        \n",
    "    def _tde_for_inference(self):\n",
    "        for_array = []\n",
    "        for i in range(self.d_model):\n",
    "            if i != 0:\n",
    "                for_array.append(\n",
    "                    self.df.data[\n",
    "                        -self.seq - i * (self.dilation + 1): -i * (self.dilation + 1)\n",
    "                        ]\n",
    "                    )\n",
    "            else:\n",
    "                for_array.append(self.df.data[-self.seq:])\n",
    "        self.time_delay_embedded = np.array([content for content in reversed(for_array)])\n",
    "        return None"
   ]
  }
 ],
 "metadata": {
  "kernelspec": {
   "display_name": "for_pytorch",
   "language": "python",
   "name": "python3"
  },
  "language_info": {
   "codemirror_mode": {
    "name": "ipython",
    "version": 3
   },
   "file_extension": ".py",
   "mimetype": "text/x-python",
   "name": "python",
   "nbconvert_exporter": "python",
   "pygments_lexer": "ipython3",
   "version": "3.9.15"
  },
  "orig_nbformat": 4,
  "vscode": {
   "interpreter": {
    "hash": "6f415b4ed372d607fec632355f4d17dd884dbf40d29d4f41bd390ce33285f7d0"
   }
  }
 },
 "nbformat": 4,
 "nbformat_minor": 2
}
