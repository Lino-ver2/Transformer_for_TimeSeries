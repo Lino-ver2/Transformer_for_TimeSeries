{
 "cells": [
  {
   "cell_type": "code",
   "execution_count": 1,
   "metadata": {},
   "outputs": [
    {
     "name": "stderr",
     "output_type": "stream",
     "text": [
      "/Users/lino/opt/anaconda3/envs/for_pytorch/lib/python3.9/site-packages/tqdm/auto.py:22: TqdmWarning: IProgress not found. Please update jupyter and ipywidgets. See https://ipywidgets.readthedocs.io/en/stable/user_install.html\n",
      "  from .autonotebook import tqdm as notebook_tqdm\n"
     ]
    }
   ],
   "source": [
    "import sys\n",
    "\n",
    "parent_dir = 'Predict-Future-Sales'\n",
    "p_sub = sys.path[0]\n",
    "\n",
    "ride = ''\n",
    "for path in p_sub.split('/'):\n",
    "    if path != parent_dir:\n",
    "        ride = ride + path + '/'\n",
    "    else:\n",
    "        ride = ride + path + '/'\n",
    "        break\n",
    "sys.path[0] = ride\n",
    "\n",
    "import numpy as np\n",
    "import pandas as pd\n",
    "from pandas import DatetimeIndex\n",
    "from sklearn.preprocessing import StandardScaler\n",
    "from torch.utils.data import TensorDataset\n",
    "\n",
    "from module.lino_module.preprocess import mode_of_freq, expand_and_split,\\\n",
    "                                          time_delay_embedding, src_tgt_split,\\\n",
    "                                          to_torch_dataset\n",
    "from typing import Tuple, Optional\n",
    "from numpy import ndarray\n",
    "from pandas import DataFrame, Series\n",
    "from torch.utils.data import DataLoader"
   ]
  },
  {
   "attachments": {},
   "cell_type": "markdown",
   "metadata": {},
   "source": [
    "### Time Delay Embedding に対応させた曜日と月時情報をd_modelにconcatしたデータセットを出力する"
   ]
  },
  {
   "cell_type": "code",
   "execution_count": 7,
   "metadata": {},
   "outputs": [
    {
     "data": {
      "text/plain": [
       "((1022, 6, 12), (1022, 2, 12), (1022, 7, 12))"
      ]
     },
     "execution_count": 7,
     "metadata": {},
     "output_type": "execute_result"
    }
   ],
   "source": [
    "# from module.lino_module.preprocess import tde_dataset_wm\n",
    "\n",
    "data = pd.read_csv('../data/sales_train.csv')\n",
    "data = mode_of_freq(data).item_cnt_day\n",
    "seq = 7\n",
    "d_model = 4\n",
    "dilation = 0\n",
    "src_tgt_seq = (6, 2)\n",
    "batch_size = 64\n",
    "\n",
    "# train ,test = tde_dataset_wm(data, seq, d_model, dilation, src_tgt_seq, batch_size)\n",
    "# src, tgt, y = next(iter(train))\n",
    "# src.shape, tgt.shape, y.shape\n",
    "\n",
    "src, tgt, tded = tde_dataset_wm(data, seq, d_model, dilation, src_tgt_seq, batch_size)\n",
    "src.shape, tgt.shape, tded.shape"
   ]
  },
  {
   "cell_type": "code",
   "execution_count": 6,
   "metadata": {},
   "outputs": [],
   "source": [
    "def tde_dataset_wm(data: Series,\n",
    "                   seq: int,\n",
    "                   d_model: int,\n",
    "                   dilation: int,\n",
    "                   src_tgt_seq: Tuple[int],\n",
    "                   batch_size: int,\n",
    "                   weekly=True,\n",
    "                   monthly=True,\n",
    "                   ) -> Tuple[DataLoader]:\n",
    "    \"\"\"TDEに対応した曜日ラベルと月ラベル付与したデータセットのメイン関数\"\"\"\n",
    "    index = data.index\n",
    "    data = StandardScaler().fit_transform(data.values.reshape(-1, 1))\n",
    "    data = data.reshape(-1)\n",
    "    x, y = expand_and_split(data, seq)\n",
    "    tded, label = delay_embeddings(\n",
    "                                x, y,\n",
    "                                index,\n",
    "                                d_model,\n",
    "                                dilation,\n",
    "                                seq,\n",
    "                                weekly, monthly)\n",
    "    src, tgt = src_tgt_split(tded, *src_tgt_seq)\n",
    "    # train, test = to_torch_dataset(src, tgt, label, batch_size)\n",
    "    return src, tgt, tded #train, test"
   ]
  },
  {
   "cell_type": "code",
   "execution_count": 3,
   "metadata": {},
   "outputs": [],
   "source": [
    "def delay_embeddings(x: ndarray,\n",
    "                     y: ndarray,\n",
    "                     index: DatetimeIndex,\n",
    "                     d_model: int,\n",
    "                     dilation: int,\n",
    "                     seq: int,\n",
    "                     weekly: bool,\n",
    "                     monthly: bool):\n",
    "    \"\"\"TDEに対応した曜日、月時ラベルをconcatする\"\"\"\n",
    "    # Time Delay Embedding\n",
    "    tded, label = time_delay_embedding(x, y, d_model, dilation)\n",
    "\n",
    "    # 曜日ラベル\n",
    "    if weekly:\n",
    "        # positional encodingのために0-1でスケーリング\n",
    "        scaled_weekday = index.weekday / 6\n",
    "        week, _ = expand_and_split(scaled_weekday, seq)\n",
    "        tded_week = time_delay_embedding(week, None, d_model, dilation)\n",
    "        tded = np.concatenate((tded, tded_week), axis=2)\n",
    "\n",
    "    # 月ラベル\n",
    "    if monthly:\n",
    "        # positional encodingのために0-1でスケーリング\n",
    "        scaled_month = (index.month - 1) / 11\n",
    "        month, _ = expand_and_split(scaled_month, seq)\n",
    "        tded_month = time_delay_embedding(month, None, d_model, dilation)\n",
    "        tded = np.concatenate((tded, tded_month), axis=2)\n",
    "    return tded, label"
   ]
  },
  {
   "cell_type": "code",
   "execution_count": null,
   "metadata": {},
   "outputs": [],
   "source": []
  }
 ],
 "metadata": {
  "kernelspec": {
   "display_name": "for_pytorch",
   "language": "python",
   "name": "python3"
  },
  "language_info": {
   "codemirror_mode": {
    "name": "ipython",
    "version": 3
   },
   "file_extension": ".py",
   "mimetype": "text/x-python",
   "name": "python",
   "nbconvert_exporter": "python",
   "pygments_lexer": "ipython3",
   "version": "3.9.15"
  },
  "orig_nbformat": 4,
  "vscode": {
   "interpreter": {
    "hash": "6f415b4ed372d607fec632355f4d17dd884dbf40d29d4f41bd390ce33285f7d0"
   }
  }
 },
 "nbformat": 4,
 "nbformat_minor": 2
}
