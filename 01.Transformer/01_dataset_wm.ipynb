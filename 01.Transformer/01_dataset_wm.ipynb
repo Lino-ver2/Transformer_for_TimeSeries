{
 "cells": [
  {
   "cell_type": "code",
   "execution_count": 4,
   "metadata": {},
   "outputs": [],
   "source": [
    "import sys\n",
    "\n",
    "parent_dir = 'Predict-Future-Sales'\n",
    "p_sub = sys.path[0]\n",
    "\n",
    "ride = ''\n",
    "for path in p_sub.split('/'):\n",
    "    if path != parent_dir:\n",
    "        ride = ride + path + '/'\n",
    "    else:\n",
    "        ride = ride + path + '/'\n",
    "        break\n",
    "sys.path[0] = ride\n",
    "\n",
    "import numpy as np\n",
    "import pandas as pd\n",
    "import torch\n",
    "\n",
    "from module.lino_module.preprocess import mode_of_freq\n",
    "\n",
    "from typing import Tuple, Optional, Union\n",
    "from numpy import ndarray\n",
    "from pandas import DataFrame, Series, DatetimeIndex\n",
    "from sklearn.preprocessing import StandardScaler, MinMaxScaler\n",
    "from torch.utils.data import DataLoader\n",
    "from torch.utils.data import TensorDataset"
   ]
  },
  {
   "attachments": {},
   "cell_type": "markdown",
   "metadata": {},
   "source": [
    "### Time Delay Embedding に対応させた曜日と月時情報をd_modelにconcatしたデータセットを出力する"
   ]
  },
  {
   "cell_type": "code",
   "execution_count": 5,
   "metadata": {},
   "outputs": [
    {
     "data": {
      "text/plain": [
       "date\n",
       "2013-01-01       0\n",
       "2013-01-02       1\n",
       "2013-01-03       2\n",
       "2013-01-04       3\n",
       "2013-01-05       4\n",
       "              ... \n",
       "2015-10-27    1029\n",
       "2015-10-28    1030\n",
       "2015-10-29    1031\n",
       "2015-10-30    1032\n",
       "2015-10-31    1033\n",
       "Freq: D, Length: 1034, dtype: int64"
      ]
     },
     "execution_count": 5,
     "metadata": {},
     "output_type": "execute_result"
    }
   ],
   "source": [
    "from module.lino_module.preprocess import tde_dataset_wm\n",
    "\n",
    "data = pd.read_csv('../data/sales_train.csv')\n",
    "data = mode_of_freq(data).item_cnt_day\n",
    "demo = np.arange(len(data))\n",
    "ds = pd.Series(demo , index=data.index)\n",
    "ds"
   ]
  },
  {
   "cell_type": "code",
   "execution_count": 11,
   "metadata": {},
   "outputs": [
    {
     "data": {
      "text/plain": [
       "(torch.Size([64, 4, 25]), torch.Size([64, 3, 25]), torch.Size([64, 3]))"
      ]
     },
     "execution_count": 11,
     "metadata": {},
     "output_type": "execute_result"
    }
   ],
   "source": [
    "d_model = 5\n",
    "kwrgs ={'data': ds,\n",
    "        'seq': 7,\n",
    "        'd_model': d_model,\n",
    "        'dilation': 3,\n",
    "        'src_tgt_seq': (4, 3),\n",
    "        'step_num': 2,\n",
    "        'batch_size': 64,\n",
    "        'scaler': None,\n",
    "        'daily': True,\n",
    "        'weekday': True,\n",
    "        'weekly': True,\n",
    "        'monthly': True,\n",
    "        'train_rate': 0.9 }\n",
    "\n",
    "train, test = tde_dataset_wm(**kwrgs)\n",
    "src, tgt, y = next(iter(train))\n",
    "src.shape, tgt.shape, y.shape"
   ]
  },
  {
   "cell_type": "code",
   "execution_count": 12,
   "metadata": {},
   "outputs": [
    {
     "name": "stdout",
     "output_type": "stream",
     "text": [
      "--------------- src_data ---------------\n",
      "tensor([[ 0.,  4.,  8., 12., 16.],\n",
      "        [ 1.,  5.,  9., 13., 17.],\n",
      "        [ 2.,  6., 10., 14., 18.],\n",
      "        [ 3.,  7., 11., 15., 19.]])\n",
      "---------------- daily -----------------\n",
      "tensor([[0.0000, 0.1290, 0.2581, 0.3871, 0.5161],\n",
      "        [0.0323, 0.1613, 0.2903, 0.4194, 0.5484],\n",
      "        [0.0645, 0.1935, 0.3226, 0.4516, 0.5806],\n",
      "        [0.0968, 0.2258, 0.3548, 0.4839, 0.6129]])\n",
      "--------------- weekday ----------------\n",
      "tensor([[0.1667, 0.8333, 0.3333, 1.0000, 0.5000],\n",
      "        [0.3333, 1.0000, 0.5000, 0.0000, 0.6667],\n",
      "        [0.5000, 0.0000, 0.6667, 0.1667, 0.8333],\n",
      "        [0.6667, 0.1667, 0.8333, 0.3333, 1.0000]])\n",
      "---------------- weekly ----------------\n",
      "tensor([[0.0000, 0.0000, 0.0227, 0.0227, 0.0455],\n",
      "        [0.0000, 0.0000, 0.0227, 0.0455, 0.0455],\n",
      "        [0.0000, 0.0227, 0.0227, 0.0455, 0.0455],\n",
      "        [0.0000, 0.0227, 0.0227, 0.0455, 0.0455]])\n",
      "--------------- monthly ----------------\n",
      "tensor([[0., 0., 0., 0., 0.],\n",
      "        [0., 0., 0., 0., 0.],\n",
      "        [0., 0., 0., 0., 0.],\n",
      "        [0., 0., 0., 0., 0.]])\n"
     ]
    }
   ],
   "source": [
    "index = 0\n",
    "center = 40\n",
    "print(' src_data '.center(center, '-'))\n",
    "print(src[index][:, :d_model])\n",
    "\n",
    "print(' daily '.center(center, '-'))\n",
    "print(src[index][:, d_model:d_model*2])\n",
    "print(' weekday '.center(center, '-'))\n",
    "print(src[index][:, d_model*2:d_model*3])\n",
    "print(' weekly '.center(center, '-'))\n",
    "print(src[index][:, d_model*3:d_model*4])\n",
    "print(' monthly '.center(center, '-'))\n",
    "print(src[index][:, d_model*4:d_model*5])"
   ]
  },
  {
   "cell_type": "code",
   "execution_count": 5,
   "metadata": {},
   "outputs": [
    {
     "name": "stdout",
     "output_type": "stream",
     "text": [
      "--------------- tgt_data ---------------\n",
      "tensor([[ 4.,  6.,  8., 10., 12.],\n",
      "        [ 5.,  7.,  9., 11., 13.],\n",
      "        [ 6.,  8., 10., 12., 14.]])\n",
      "---------------- daily -----------------\n",
      "tensor([[0.1290, 0.1935, 0.2581, 0.3226, 0.3871],\n",
      "        [0.1613, 0.2258, 0.2903, 0.3548, 0.4194],\n",
      "        [0.1935, 0.2581, 0.3226, 0.3871, 0.4516]])\n",
      "--------------- weekday ----------------\n",
      "tensor([[0.8333, 0.0000, 0.3333, 0.6667, 1.0000],\n",
      "        [1.0000, 0.1667, 0.5000, 0.8333, 0.0000],\n",
      "        [0.0000, 0.3333, 0.6667, 1.0000, 0.1667]])\n",
      "---------------- weekly ----------------\n",
      "tensor([[0.0000, 0.0227, 0.0227, 0.0227, 0.0227],\n",
      "        [0.0000, 0.0227, 0.0227, 0.0227, 0.0455],\n",
      "        [0.0227, 0.0227, 0.0227, 0.0227, 0.0455]])\n",
      "--------------- monthly ----------------\n",
      "tensor([[0., 0., 0., 0., 0.],\n",
      "        [0., 0., 0., 0., 0.],\n",
      "        [0., 0., 0., 0., 0.]])\n",
      "------------------ y -------------------\n",
      "tensor([14., 15., 16.])\n"
     ]
    }
   ],
   "source": [
    "print(' tgt_data '.center(center, '-'))\n",
    "print(tgt[index][:, :d_model])\n",
    "print(' daily '.center(center, '-'))\n",
    "print(tgt[index][:, d_model:d_model*2])\n",
    "print(' weekday '.center(center, '-'))\n",
    "print(tgt[index][:, d_model*2:d_model*3])\n",
    "print(' weekly '.center(center, '-'))\n",
    "print(tgt[index][:, d_model*3:d_model*4])\n",
    "print(' monthly '.center(center, '-'))\n",
    "print(tgt[index][:, d_model*4:d_model*5])\n",
    "print(' y '.center(center, '-'))\n",
    "print(y[index])"
   ]
  }
 ],
 "metadata": {
  "kernelspec": {
   "display_name": "for_pytorch",
   "language": "python",
   "name": "python3"
  },
  "language_info": {
   "codemirror_mode": {
    "name": "ipython",
    "version": 3
   },
   "file_extension": ".py",
   "mimetype": "text/x-python",
   "name": "python",
   "nbconvert_exporter": "python",
   "pygments_lexer": "ipython3",
   "version": "3.9.15"
  },
  "orig_nbformat": 4,
  "vscode": {
   "interpreter": {
    "hash": "6f415b4ed372d607fec632355f4d17dd884dbf40d29d4f41bd390ce33285f7d0"
   }
  }
 },
 "nbformat": 4,
 "nbformat_minor": 2
}
