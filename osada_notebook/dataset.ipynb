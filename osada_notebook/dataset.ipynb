{
 "cells": [
  {
   "cell_type": "code",
   "execution_count": 1,
   "metadata": {},
   "outputs": [
    {
     "name": "stderr",
     "output_type": "stream",
     "text": [
      "/Users/lino/opt/anaconda3/envs/datascience/lib/python3.9/site-packages/tqdm/auto.py:22: TqdmWarning: IProgress not found. Please update jupyter and ipywidgets. See https://ipywidgets.readthedocs.io/en/stable/user_install.html\n",
      "  from .autonotebook import tqdm as notebook_tqdm\n"
     ]
    }
   ],
   "source": [
    "from typing import List, Tuple\n",
    "import torch\n",
    "import numpy as np\n",
    "import pandas as pd"
   ]
  },
  {
   "cell_type": "code",
   "execution_count": 2,
   "metadata": {},
   "outputs": [],
   "source": [
    "def mode_of_freq(data: pd.DataFrame,\n",
    "                 key='date',\n",
    "                 freq='D',\n",
    "                 mode='sum'\n",
    "                 ) -> pd.DataFrame:\n",
    "    \"\"\"データを基本統計量で統合する\n",
    "    引数:\n",
    "        data: 対象を含むオリジナルデータ\n",
    "        key: 時間軸のカラム名\n",
    "        freq: グループ単位（D: 日ごと, M: 月ごと, Y: 年ごと）\n",
    "        mode: 統計量（sum, mean, etc）\n",
    "    \"\"\"\n",
    "    # 日付をobjectからdate_time型に変更\n",
    "    data[key] = pd.to_datetime(data[key], format=('%d.%m.%Y'))\n",
    "    # 時系列(key)についてグループ単位(freq)の売上数の基本統計量(mode)で出力\n",
    "    mode_of_key = getattr(data.groupby(pd.Grouper(key=key, freq=freq)), mode)\n",
    "    return mode_of_key()"
   ]
  },
  {
   "cell_type": "code",
   "execution_count": 3,
   "metadata": {},
   "outputs": [],
   "source": [
    "def expand_and_split(ds: pd.Series, seq: int) -> Tuple[np.ndarray]:\n",
    "    \"\"\"2次元にd_modelずらしたデータと正解データを作成する\n",
    "    引数:\n",
    "        ds: 単変量時系列データ\n",
    "        seq: transformerのシーケンス\n",
    "    \"\"\"\n",
    "    endpoint = len(ds) - (seq + 1)\n",
    "    expanded = np.stack([ds[i: i + seq + 1] for i in range(0, endpoint)])\n",
    "    x = expanded[:, :-1]\n",
    "    y = expanded[:, -1]\n",
    "    return x, y #,expanded  # for debag"
   ]
  },
  {
   "cell_type": "code",
   "execution_count": 4,
   "metadata": {},
   "outputs": [],
   "source": [
    "def time_delay_embedding(x: np.ndarray,\n",
    "                            y:np.ndarray,\n",
    "                            d_model=32,\n",
    "                            dilation=1) -> Tuple[np.ndarray]:\n",
    "    \"\"\"Time Delay Embedding\n",
    "    引数:\n",
    "        x: 訓練データ\n",
    "        y: 正解データ\n",
    "        d_model: エンべディング次元数\n",
    "        dilation: エンべディングの膨張率 \n",
    "    \"\"\"\n",
    "    endpoint = x.shape[0] - d_model * dilation\n",
    "    span = d_model * dilation\n",
    "\n",
    "    tded = [x[i: i + span: dilation, :].T for i in range(endpoint)] \n",
    "    y = y[span - dilation:]\n",
    "    return np.array(tded), np.array(y)\n",
    "\n",
    "## for debag\n",
    "# i = 0\n",
    "# print(expanded[i: i + span: dilation, :][-1,   -2:])\n",
    "# print(tded[i][-1, -1], y_[i])"
   ]
  },
  {
   "cell_type": "code",
   "execution_count": 5,
   "metadata": {},
   "outputs": [],
   "source": [
    "def src_tgt_split(tded: np.ndarray,\n",
    "                   src_seq: int,\n",
    "                   tgt_seq: int) -> Tuple[np.ndarray]:\n",
    "    \"\"\"エンコーダ入力とデコーダ入力への分割\"\"\"\n",
    "    src = tded[:, :src_seq]\n",
    "    tgt = tded[:, -tgt_seq:]\n",
    "    return src, tgt"
   ]
  },
  {
   "cell_type": "code",
   "execution_count": 8,
   "metadata": {},
   "outputs": [],
   "source": [
    "def to_torch_dataset(src: np.ndarray,\n",
    "                     tgt: np.ndarray,\n",
    "                     label: np.ndarray,\n",
    "                     batch_size: int) -> object:\n",
    "    \"\"\"Pytorch用のデータセットへの変換\n",
    "    引数:\n",
    "        src: エンコーダ入力データ\n",
    "        tgt: デコーダ入力データ\n",
    "        label: 正解データ\n",
    "        batch_size: ミニバッチのバッチサイズ\n",
    "    \"\"\"\n",
    "    label = label.reshape(-1, 1)[:len(src)]\n",
    "    pack = (src, tgt , label)\n",
    "    pack = [torch.from_numpy(i.astype(np.float32)).clone() for i in pack]\n",
    "    dataset = torch.utils.data.TensorDataset(*pack)\n",
    "    dataset = torch.utils.data.DataLoader(dataset, batch_size, shuffle=False)\n",
    "    return dataset"
   ]
  },
  {
   "cell_type": "code",
   "execution_count": 9,
   "metadata": {},
   "outputs": [],
   "source": [
    "def time_series_dataset(data,\n",
    "                        trg_column = 'item_cnt_day',\n",
    "                        seq=7,\n",
    "                        d_model=32,\n",
    "                        dilation=1,\n",
    "                        src_tgt_seq=(6, 2),\n",
    "                        batch_size=64):\n",
    "    data = getattr(mode_of_freq(data), trg_column)\n",
    "    x, y = expand_and_split(data, seq=7)\n",
    "    tded, label = time_delay_embedding(x, y, d_model=32, dilation=1)\n",
    "    src, tgt = src_tgt_split(tded, *src_tgt_seq)\n",
    "    dataset = to_torch_dataset(src, tgt, label, batch_size=64)\n",
    "    return dataset"
   ]
  },
  {
   "cell_type": "code",
   "execution_count": 1,
   "metadata": {},
   "outputs": [
    {
     "name": "stderr",
     "output_type": "stream",
     "text": [
      "/Users/lino/opt/anaconda3/envs/datascience/lib/python3.9/site-packages/tqdm/auto.py:22: TqdmWarning: IProgress not found. Please update jupyter and ipywidgets. See https://ipywidgets.readthedocs.io/en/stable/user_install.html\n",
      "  from .autonotebook import tqdm as notebook_tqdm\n"
     ]
    },
    {
     "ename": "NameError",
     "evalue": "name 'pd' is not defined",
     "output_type": "error",
     "traceback": [
      "\u001b[0;31m---------------------------------------------------------------------------\u001b[0m",
      "\u001b[0;31mNameError\u001b[0m                                 Traceback (most recent call last)",
      "\u001b[1;32mセル8 を /Users/lino/Desktop/Predict-Future-Sales/osada_notebook/dataset.ipynb\u001b[0m in \u001b[0;36m<cell line: 17>\u001b[0;34m()\u001b[0m\n\u001b[1;32m     <a href='vscode-notebook-cell:/Users/lino/Desktop/Predict-Future-Sales/osada_notebook/dataset.ipynb#X10sZmlsZQ%3D%3D?line=12'>13</a>\u001b[0m sys\u001b[39m.\u001b[39mpath\n\u001b[1;32m     <a href='vscode-notebook-cell:/Users/lino/Desktop/Predict-Future-Sales/osada_notebook/dataset.ipynb#X10sZmlsZQ%3D%3D?line=14'>15</a>\u001b[0m \u001b[39mfrom\u001b[39;00m \u001b[39mmodule\u001b[39;00m\u001b[39m.\u001b[39;00m\u001b[39mlino\u001b[39;00m \u001b[39mimport\u001b[39;00m time_series_dataset\n\u001b[0;32m---> <a href='vscode-notebook-cell:/Users/lino/Desktop/Predict-Future-Sales/osada_notebook/dataset.ipynb#X10sZmlsZQ%3D%3D?line=16'>17</a>\u001b[0m data \u001b[39m=\u001b[39m pd\u001b[39m.\u001b[39mread_csv(\u001b[39m'\u001b[39m\u001b[39m../data/sales_train.csv\u001b[39m\u001b[39m'\u001b[39m)\n\u001b[1;32m     <a href='vscode-notebook-cell:/Users/lino/Desktop/Predict-Future-Sales/osada_notebook/dataset.ipynb#X10sZmlsZQ%3D%3D?line=17'>18</a>\u001b[0m dataset \u001b[39m=\u001b[39m time_series_dataset(data)\n",
      "\u001b[0;31mNameError\u001b[0m: name 'pd' is not defined"
     ]
    }
   ],
   "source": [
    "\n",
    "from module.lino import time_series_dataset\n",
    "\n",
    "data = pd.read_csv('../data/sales_train.csv')\n",
    "dataset = time_series_dataset(data)"
   ]
  },
  {
   "cell_type": "code",
   "execution_count": 2,
   "metadata": {},
   "outputs": [
    {
     "data": {
      "text/plain": [
       "['/Users/lino/Desktop/Predict-Future-Sales/osada_notebook',\n",
       " '/Users/lino/.vscode/extensions/ms-toolsai.jupyter-2022.11.1003412109/pythonFiles',\n",
       " '/Users/lino/.vscode/extensions/ms-toolsai.jupyter-2022.11.1003412109/pythonFiles/lib/python',\n",
       " '/Users/lino/opt/anaconda3/envs/datascience/lib/python39.zip',\n",
       " '/Users/lino/opt/anaconda3/envs/datascience/lib/python3.9',\n",
       " '/Users/lino/opt/anaconda3/envs/datascience/lib/python3.9/lib-dynload',\n",
       " '',\n",
       " '/Users/lino/opt/anaconda3/envs/datascience/lib/python3.9/site-packages']"
      ]
     },
     "execution_count": 2,
     "metadata": {},
     "output_type": "execute_result"
    }
   ],
   "source": [
    "sys.path"
   ]
  },
  {
   "cell_type": "code",
   "execution_count": null,
   "metadata": {},
   "outputs": [],
   "source": [
    "import torch.nn as nn"
   ]
  },
  {
   "cell_type": "code",
   "execution_count": null,
   "metadata": {},
   "outputs": [],
   "source": [
    "d_model = 32\n",
    "encoder_layer = nn.TransformerEncoderLayer(d_model=32, nhead=8, batch_first=True)\n",
    "transformer_encoder = nn.TransformerEncoder(encoder_layer, num_layers=6)\n",
    "src = torch.rand(64,7,32)\n",
    "memory = transformer_encoder(src)\n",
    "print(memory.shape)"
   ]
  },
  {
   "cell_type": "code",
   "execution_count": null,
   "metadata": {},
   "outputs": [],
   "source": [
    "decoder_layer = nn.TransformerDecoderLayer(d_model, nhead=8, batch_first=True)\n",
    "transformer_decoder = nn.TransformerDecoder(decoder_layer, num_layers=6)\n",
    "tgt = torch.rand(64, 2,32)\n",
    "out = transformer_decoder(tgt, memory)\n",
    "linear = nn.Linear(32, 1)\n",
    "y = linear(out)\n",
    "y.shape"
   ]
  },
  {
   "cell_type": "code",
   "execution_count": null,
   "metadata": {},
   "outputs": [],
   "source": []
  }
 ],
 "metadata": {
  "kernelspec": {
   "display_name": "datascience",
   "language": "python",
   "name": "python3"
  },
  "language_info": {
   "codemirror_mode": {
    "name": "ipython",
    "version": 3
   },
   "file_extension": ".py",
   "mimetype": "text/x-python",
   "name": "python",
   "nbconvert_exporter": "python",
   "pygments_lexer": "ipython3",
   "version": "3.9.13 (main, Aug 25 2022, 18:29:29) \n[Clang 12.0.0 ]"
  },
  "orig_nbformat": 4,
  "vscode": {
   "interpreter": {
    "hash": "596b88989fc0dc1fed1e4e461c9c9f08188a37ef0bdca6efc263739311be1bbe"
   }
  }
 },
 "nbformat": 4,
 "nbformat_minor": 2
}
