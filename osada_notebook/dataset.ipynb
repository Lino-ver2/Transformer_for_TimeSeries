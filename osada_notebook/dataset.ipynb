{
 "cells": [
  {
   "cell_type": "code",
   "execution_count": 1,
   "metadata": {},
   "outputs": [
    {
     "name": "stderr",
     "output_type": "stream",
     "text": [
      "/Users/lino/opt/anaconda3/envs/datascience/lib/python3.9/site-packages/tqdm/auto.py:22: TqdmWarning: IProgress not found. Please update jupyter and ipywidgets. See https://ipywidgets.readthedocs.io/en/stable/user_install.html\n",
      "  from .autonotebook import tqdm as notebook_tqdm\n"
     ]
    }
   ],
   "source": [
    "from typing import List, Tuple\n",
    "import torch\n",
    "import numpy as np\n",
    "import pandas as pd"
   ]
  },
  {
   "cell_type": "code",
   "execution_count": 12,
   "metadata": {},
   "outputs": [],
   "source": [
    "def mode_of_freq(data: pd.DataFrame,\n",
    "                 key='date',\n",
    "                 freq='D',\n",
    "                 mode='sum'\n",
    "                 ) -> pd.DataFrame:\n",
    "    # 日付をobjectからdate_time型に変更\n",
    "    data.date = pd.to_datetime(data.date, format=('%d.%m.%Y'))\n",
    "    # 時系列(key)について日毎(D)の売上数の合計値(sum)で出力\n",
    "    mode_of_key = getattr(data.groupby(pd.Grouper(key=key, freq=freq)), mode)\n",
    "\n",
    "    return mode_of_key()\n",
    "\n",
    "\n",
    "def making_dataset(\n",
    "                ds: pd.Series,\n",
    "                span=7,\n",
    "                ) -> List[Tuple[np.ndarray, np.ndarray]]:\n",
    "    data = ds.copy()\n",
    "    endpoint = len(data) - span - 2\n",
    "    src = np.stack([data[i: i+span] for i in range(0, endpoint)])\n",
    "    trg = np.stack([data[i+span-1: i+span+1] for i in range(0, endpoint)])\n",
    "    out = np.stack([data[i+span: i+span+2] for i in range(0, endpoint)])\n",
    "    pack = (src, trg, out)\n",
    "    pack = [torch.from_numpy(i.astype(np.float32)).clone() for i in pack]\n",
    "    return pack"
   ]
  },
  {
   "cell_type": "code",
   "execution_count": 13,
   "metadata": {},
   "outputs": [],
   "source": [
    "data = pd.read_csv('../data/sales_train.csv')\n",
    "data = mode_of_freq(data).item_cnt_day\n",
    "pack = making_dataset(data)"
   ]
  },
  {
   "cell_type": "code",
   "execution_count": 14,
   "metadata": {},
   "outputs": [
    {
     "data": {
      "text/plain": [
       "tensor([[1951., 8198., 7422.,  ..., 6346., 5858., 4984.],\n",
       "        [8198., 7422., 6617.,  ..., 5858., 4984., 4772.],\n",
       "        [7422., 6617., 6346.,  ..., 4984., 4772., 3162.],\n",
       "        ...,\n",
       "        [1711., 1647., 1632.,  ..., 3035., 2495., 1387.],\n",
       "        [1647., 1632., 2901.,  ..., 2495., 1387., 1551.],\n",
       "        [1632., 2901., 3035.,  ..., 1387., 1551., 3593.]])"
      ]
     },
     "execution_count": 14,
     "metadata": {},
     "output_type": "execute_result"
    }
   ],
   "source": [
    "pack[0]"
   ]
  },
  {
   "cell_type": "code",
   "execution_count": 15,
   "metadata": {},
   "outputs": [
    {
     "data": {
      "text/plain": [
       "tensor([[4984., 4772.],\n",
       "        [4772., 3162.],\n",
       "        [3162., 3142.],\n",
       "        ...,\n",
       "        [1387., 1551.],\n",
       "        [1551., 3593.],\n",
       "        [3593., 1589.]])"
      ]
     },
     "execution_count": 15,
     "metadata": {},
     "output_type": "execute_result"
    }
   ],
   "source": [
    "pack[1]"
   ]
  },
  {
   "cell_type": "code",
   "execution_count": 16,
   "metadata": {},
   "outputs": [
    {
     "data": {
      "text/plain": [
       "tensor([[4772., 3162.],\n",
       "        [3162., 3142.],\n",
       "        [3142., 3829.],\n",
       "        ...,\n",
       "        [1551., 3593.],\n",
       "        [3593., 1589.],\n",
       "        [1589., 2274.]])"
      ]
     },
     "execution_count": 16,
     "metadata": {},
     "output_type": "execute_result"
    }
   ],
   "source": [
    "pack[2]"
   ]
  },
  {
   "cell_type": "code",
   "execution_count": null,
   "metadata": {},
   "outputs": [],
   "source": []
  }
 ],
 "metadata": {
  "kernelspec": {
   "display_name": "datascience",
   "language": "python",
   "name": "python3"
  },
  "language_info": {
   "codemirror_mode": {
    "name": "ipython",
    "version": 3
   },
   "file_extension": ".py",
   "mimetype": "text/x-python",
   "name": "python",
   "nbconvert_exporter": "python",
   "pygments_lexer": "ipython3",
   "version": "3.9.13"
  },
  "orig_nbformat": 4,
  "vscode": {
   "interpreter": {
    "hash": "596b88989fc0dc1fed1e4e461c9c9f08188a37ef0bdca6efc263739311be1bbe"
   }
  }
 },
 "nbformat": 4,
 "nbformat_minor": 2
}
