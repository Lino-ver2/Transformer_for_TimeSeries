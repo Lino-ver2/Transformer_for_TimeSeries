{
 "cells": [
  {
   "cell_type": "code",
   "execution_count": 1,
   "metadata": {},
   "outputs": [
    {
     "name": "stderr",
     "output_type": "stream",
     "text": [
      "/Users/lino/opt/anaconda3/envs/datascience/lib/python3.9/site-packages/tqdm/auto.py:22: TqdmWarning: IProgress not found. Please update jupyter and ipywidgets. See https://ipywidgets.readthedocs.io/en/stable/user_install.html\n",
      "  from .autonotebook import tqdm as notebook_tqdm\n"
     ]
    }
   ],
   "source": [
    "from typing import List, Tuple\n",
    "import torch\n",
    "import numpy as np\n",
    "import pandas as pd"
   ]
  },
  {
   "cell_type": "code",
   "execution_count": 2,
   "metadata": {},
   "outputs": [],
   "source": [
    "def mode_of_freq(data: pd.DataFrame,\n",
    "                 key='date',\n",
    "                 freq='D',\n",
    "                 mode='sum'\n",
    "                 ) -> pd.DataFrame:\n",
    "    # 日付をobjectからdate_time型に変更\n",
    "    data.date = pd.to_datetime(data.date, format=('%d.%m.%Y'))\n",
    "    # 時系列(key)について日毎(D)の売上数の合計値(sum)で出力\n",
    "    mode_of_key = getattr(data.groupby(pd.Grouper(key=key, freq=freq)), mode)\n",
    "    return mode_of_key()"
   ]
  },
  {
   "cell_type": "code",
   "execution_count": 3,
   "metadata": {},
   "outputs": [],
   "source": [
    "def _target_split(ds: pd.Series, d_model: int) -> Tuple[np.ndarray]:\n",
    "    \"\"\"2次元にd_modelずらしたデータと正解データを作成する\"\"\"\n",
    "    endpoint = len(ds) - d_model + 1\n",
    "    d_modeled = np.stack([ds[i: i+d_model] for i in range(0, endpoint)])\n",
    "    x = d_modeled[:-1]\n",
    "    y = d_modeled[-1]\n",
    "    return x, y"
   ]
  },
  {
   "cell_type": "code",
   "execution_count": 14,
   "metadata": {},
   "outputs": [],
   "source": [
    "def _src_tgt_split(x: np.ndarray, y: np.ndarray, src_seq: int, tgt_seq: int, sliding=1) -> Tuple[np.ndarray]:\n",
    "    \"\"\"エンコーダ入力とデコーダ入力を作成する\n",
    "    引数: \n",
    "        x: _target_splitで変換されたデータx\n",
    "        y: _target_splitで変換されたデータy\n",
    "        src_seq: エンコーダのシーケンス数\n",
    "        tgt_seq: デコーダのシーン数\n",
    "        sliding: エンコーダ入力とデコーダ入力のずれ\n",
    "    \"\"\"\n",
    "    x_row = x.shape[0]\n",
    "    src_seq = 7\n",
    "    tgt_seq = 2\n",
    "    sliding = 1\n",
    "    pack = [(x[i: i+src_seq],\n",
    "            x[i+src_seq-(tgt_seq-sliding): i+src_seq+sliding],\n",
    "            y[i: i+src_seq])\n",
    "            for i in range(x_row//src_seq)]\n",
    "    return pack"
   ]
  },
  {
   "cell_type": "code",
   "execution_count": 15,
   "metadata": {},
   "outputs": [],
   "source": [
    "def _to_torch_dataset(pack, batch_size):\n",
    "    pack = [torch.from_numpy(i.astype(np.float32)).clone() for i in pack]\n",
    "    dataset = torch.utils.data.TensorDataset(*pack)\n",
    "    dataset = torch.utils.data.DataLoader(dataset, batch_size, shuffle=False)\n",
    "    return dataset"
   ]
  },
  {
   "cell_type": "code",
   "execution_count": 16,
   "metadata": {},
   "outputs": [],
   "source": [
    "data = pd.read_csv('../data/sales_train.csv')\n",
    "data = mode_of_freq(data).item_cnt_day\n",
    "x, y = _target_split(data, d_model=32)\n",
    "pack = _src_tgt_split(x, y, src_seq=7, tgt_seq=2, sliding=1)"
   ]
  },
  {
   "attachments": {},
   "cell_type": "markdown",
   "metadata": {},
   "source": [
    "# この下のセルから再開"
   ]
  },
  {
   "cell_type": "code",
   "execution_count": 43,
   "metadata": {},
   "outputs": [
    {
     "name": "stderr",
     "output_type": "stream",
     "text": [
      "/var/folders/v7/1tdz9h091g59gfrm4hj34cjc0000gn/T/ipykernel_10011/4035392929.py:14: VisibleDeprecationWarning: Creating an ndarray from ragged nested sequences (which is a list-or-tuple of lists-or-tuples-or ndarrays with different lengths or shapes) is deprecated. If you meant to do this, you must specify 'dtype=object' when creating the ndarray.\n",
      "  src, tgt, target = np.array(src_list), np.array(tgt_list), np.array(target_list)\n"
     ]
    }
   ],
   "source": [
    "x_row = x.shape[0]\n",
    "src_seq = 7\n",
    "tgt_seq = 2\n",
    "sliding = 1\n",
    "\n",
    "src_list, tgt_list, target_list = [],[], []\n",
    "for i in range(x_row//src_seq):\n",
    "    src = x[i: i+src_seq]\n",
    "    src_list.append(src)\n",
    "    tgt = x[i+src_seq-(tgt_seq-sliding): i+src_seq+sliding]\n",
    "    tgt_list.append(tgt)\n",
    "    target = y[i+src_seq+sliding: i+src_seq+sliding+1]\n",
    "    target_list.append(target)\n",
    "src, tgt, target = np.array(src_list), np.array(tgt_list), np.array(target_list)"
   ]
  },
  {
   "cell_type": "code",
   "execution_count": 44,
   "metadata": {},
   "outputs": [
    {
     "data": {
      "text/plain": [
       "array([], dtype=float64)"
      ]
     },
     "execution_count": 44,
     "metadata": {},
     "output_type": "execute_result"
    }
   ],
   "source": [
    "target[-3]"
   ]
  },
  {
   "cell_type": "code",
   "execution_count": null,
   "metadata": {},
   "outputs": [],
   "source": [
    "import torch.nn as nn\n",
    "\n",
    "src, tgt, y = pack\n",
    "src.shape, tgt.shape, y.shape"
   ]
  },
  {
   "cell_type": "code",
   "execution_count": null,
   "metadata": {},
   "outputs": [],
   "source": [
    "d_model = 32\n",
    "encoder_layer = nn.TransformerEncoderLayer(d_model=32, nhead=8, batch_first=True)\n",
    "transformer_encoder = nn.TransformerEncoder(encoder_layer, num_layers=6)\n",
    "src = torch.rand(64,7,32)\n",
    "memory = transformer_encoder(src)\n",
    "print(memory.shape)"
   ]
  },
  {
   "cell_type": "code",
   "execution_count": null,
   "metadata": {},
   "outputs": [],
   "source": [
    "decoder_layer = nn.TransformerDecoderLayer(d_model, nhead=8, batch_first=True)\n",
    "transformer_decoder = nn.TransformerDecoder(decoder_layer, num_layers=6)\n",
    "tgt = torch.rand(64, 2,32)\n",
    "out = transformer_decoder(tgt, memory)\n",
    "linear = nn.Linear(32, 1)\n",
    "y = linear(out)\n",
    "y.shape"
   ]
  },
  {
   "cell_type": "code",
   "execution_count": null,
   "metadata": {},
   "outputs": [],
   "source": []
  }
 ],
 "metadata": {
  "kernelspec": {
   "display_name": "datascience",
   "language": "python",
   "name": "python3"
  },
  "language_info": {
   "codemirror_mode": {
    "name": "ipython",
    "version": 3
   },
   "file_extension": ".py",
   "mimetype": "text/x-python",
   "name": "python",
   "nbconvert_exporter": "python",
   "pygments_lexer": "ipython3",
   "version": "3.9.13"
  },
  "orig_nbformat": 4,
  "vscode": {
   "interpreter": {
    "hash": "596b88989fc0dc1fed1e4e461c9c9f08188a37ef0bdca6efc263739311be1bbe"
   }
  }
 },
 "nbformat": 4,
 "nbformat_minor": 2
}
