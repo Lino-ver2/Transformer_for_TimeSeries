{
 "cells": [
  {
   "cell_type": "code",
   "execution_count": 1,
   "metadata": {},
   "outputs": [],
   "source": [
    "import numpy as np \n",
    "import pandas as pd\n",
    "\n",
    "import matplotlib.pyplot as plt \n",
    "import seaborn as sns"
   ]
  },
  {
   "cell_type": "code",
   "execution_count": 2,
   "metadata": {},
   "outputs": [
    {
     "data": {
      "text/html": [
       "<div>\n",
       "<style scoped>\n",
       "    .dataframe tbody tr th:only-of-type {\n",
       "        vertical-align: middle;\n",
       "    }\n",
       "\n",
       "    .dataframe tbody tr th {\n",
       "        vertical-align: top;\n",
       "    }\n",
       "\n",
       "    .dataframe thead th {\n",
       "        text-align: right;\n",
       "    }\n",
       "</style>\n",
       "<table border=\"1\" class=\"dataframe\">\n",
       "  <thead>\n",
       "    <tr style=\"text-align: right;\">\n",
       "      <th></th>\n",
       "      <th>date</th>\n",
       "      <th>date_block_num</th>\n",
       "      <th>shop_id</th>\n",
       "      <th>item_id</th>\n",
       "      <th>item_price</th>\n",
       "      <th>item_cnt_day</th>\n",
       "    </tr>\n",
       "  </thead>\n",
       "  <tbody>\n",
       "    <tr>\n",
       "      <th>2935844</th>\n",
       "      <td>2015-10-10</td>\n",
       "      <td>33</td>\n",
       "      <td>25</td>\n",
       "      <td>7409</td>\n",
       "      <td>299.0</td>\n",
       "      <td>1.0</td>\n",
       "    </tr>\n",
       "    <tr>\n",
       "      <th>2935845</th>\n",
       "      <td>2015-10-09</td>\n",
       "      <td>33</td>\n",
       "      <td>25</td>\n",
       "      <td>7460</td>\n",
       "      <td>299.0</td>\n",
       "      <td>1.0</td>\n",
       "    </tr>\n",
       "    <tr>\n",
       "      <th>2935846</th>\n",
       "      <td>2015-10-14</td>\n",
       "      <td>33</td>\n",
       "      <td>25</td>\n",
       "      <td>7459</td>\n",
       "      <td>349.0</td>\n",
       "      <td>1.0</td>\n",
       "    </tr>\n",
       "    <tr>\n",
       "      <th>2935847</th>\n",
       "      <td>2015-10-22</td>\n",
       "      <td>33</td>\n",
       "      <td>25</td>\n",
       "      <td>7440</td>\n",
       "      <td>299.0</td>\n",
       "      <td>1.0</td>\n",
       "    </tr>\n",
       "    <tr>\n",
       "      <th>2935848</th>\n",
       "      <td>2015-10-03</td>\n",
       "      <td>33</td>\n",
       "      <td>25</td>\n",
       "      <td>7460</td>\n",
       "      <td>299.0</td>\n",
       "      <td>1.0</td>\n",
       "    </tr>\n",
       "  </tbody>\n",
       "</table>\n",
       "</div>"
      ],
      "text/plain": [
       "              date  date_block_num  shop_id  item_id  item_price  item_cnt_day\n",
       "2935844 2015-10-10              33       25     7409       299.0           1.0\n",
       "2935845 2015-10-09              33       25     7460       299.0           1.0\n",
       "2935846 2015-10-14              33       25     7459       349.0           1.0\n",
       "2935847 2015-10-22              33       25     7440       299.0           1.0\n",
       "2935848 2015-10-03              33       25     7460       299.0           1.0"
      ]
     },
     "metadata": {},
     "output_type": "display_data"
    },
    {
     "name": "stdout",
     "output_type": "stream",
     "text": [
      "<class 'pandas.core.frame.DataFrame'>\n",
      "RangeIndex: 2935849 entries, 0 to 2935848\n",
      "Data columns (total 6 columns):\n",
      " #   Column          Dtype         \n",
      "---  ------          -----         \n",
      " 0   date            datetime64[ns]\n",
      " 1   date_block_num  int64         \n",
      " 2   shop_id         int64         \n",
      " 3   item_id         int64         \n",
      " 4   item_price      float64       \n",
      " 5   item_cnt_day    float64       \n",
      "dtypes: datetime64[ns](1), float64(2), int64(3)\n",
      "memory usage: 134.4 MB\n"
     ]
    }
   ],
   "source": [
    "data = pd.read_csv('../data/sales_train.csv')\n",
    "data.date = pd.to_datetime(data.date, format=('%d.%m.%Y'))\n",
    "display(data.tail())\n",
    "data.info()"
   ]
  },
  {
   "cell_type": "code",
   "execution_count": 3,
   "metadata": {},
   "outputs": [],
   "source": [
    "def mode_of_freq(data, key='date', freq='D', mode='sum'):\n",
    "    # 時系列(key)について日毎(D)の売上数の合計値(sum)で出力\n",
    "    mode_of_key = getattr(data.groupby(pd.Grouper(key=key, freq=freq)), mode)\n",
    "    return mode_of_key()"
   ]
  },
  {
   "cell_type": "code",
   "execution_count": 4,
   "metadata": {},
   "outputs": [
    {
     "data": {
      "text/plain": [
       "(1034,)"
      ]
     },
     "execution_count": 4,
     "metadata": {},
     "output_type": "execute_result"
    }
   ],
   "source": [
    "data_by_day = mode_of_freq(data).item_cnt_day\n",
    "data_by_day.shape"
   ]
  },
  {
   "cell_type": "code",
   "execution_count": 6,
   "metadata": {},
   "outputs": [
    {
     "data": {
      "text/plain": [
       "[<matplotlib.lines.Line2D at 0x7fc8c8fcec40>]"
      ]
     },
     "execution_count": 6,
     "metadata": {},
     "output_type": "execute_result"
    },
    {
     "data": {
      "image/png": "[encoded data removed]",
      "text/plain": [
       "<Figure size 1000x300 with 1 Axes>"
      ]
     },
     "metadata": {},
     "output_type": "display_data"
    }
   ],
   "source": [
    "plt.figure(figsize=(10,3))\n",
    "plt.plot(data_by_day)"
   ]
  },
  {
   "attachments": {},
   "cell_type": "markdown",
   "metadata": {},
   "source": [
    "### 過去7日間から次の日の売上数を予測するためのデータセットを作成"
   ]
  },
  {
   "cell_type": "code",
   "execution_count": 30,
   "metadata": {},
   "outputs": [
    {
     "data": {
      "text/plain": [
       "array([[ 1., -1.,  1.,  1.,  1.,  1.],\n",
       "       [ 1., -1.,  1.,  1.,  1.,  1.]])"
      ]
     },
     "execution_count": 30,
     "metadata": {},
     "output_type": "execute_result"
    }
   ],
   "source": [
    "np.stack([data.item_cnt_day[1:7].values, data.item_cnt_day[1:7].values])"
   ]
  },
  {
   "cell_type": "code",
   "execution_count": 112,
   "metadata": {},
   "outputs": [],
   "source": [
    "def making_dataset(\n",
    "        ds: pd.Series,\n",
    "        span=7,\n",
    "        train_rate=0.9)-> list[tuple[np.ndarray, np.ndarray]]:\n",
    "    data = ds.copy()\n",
    "    endpoint = len(data) - span\n",
    "    # [(入力データ, 正解データ)...]\n",
    "    x_data = np.stack([data[i: i+span] for i in range(0, endpoint)])\n",
    "    y_data = np.stack([data[i+span] for i in range(0, endpoint)])\n",
    "\n",
    "    size = int(len(data_by_day)*0.9)\n",
    "    x_train = x_data[:size, :]\n",
    "    x_test = x_data[size:, :]\n",
    "    y_train = y_data[:size]\n",
    "    y_test = y_data[size:]\n",
    "\n",
    "    return x_train, x_test, y_train, y_test"
   ]
  },
  {
   "cell_type": "code",
   "execution_count": 121,
   "metadata": {},
   "outputs": [
    {
     "data": {
      "text/plain": [
       "array([[1954., 2045., 1872., 1872., 1897., 2320., 1722.],\n",
       "       [2045., 1872., 1872., 1897., 2320., 1722., 1705.],\n",
       "       [1872., 1872., 1897., 2320., 1722., 1705., 1744.],\n",
       "       [1872., 1897., 2320., 1722., 1705., 1744., 1752.],\n",
       "       [1897., 2320., 1722., 1705., 1744., 1752., 1720.],\n",
       "       [2320., 1722., 1705., 1744., 1752., 1720., 1796.],\n",
       "       [1722., 1705., 1744., 1752., 1720., 1796., 1953.],\n",
       "       [1705., 1744., 1752., 1720., 1796., 1953., 1771.],\n",
       "       [1744., 1752., 1720., 1796., 1953., 1771., 1659.],\n",
       "       [1752., 1720., 1796., 1953., 1771., 1659., 1642.],\n",
       "       [1720., 1796., 1953., 1771., 1659., 1642., 1560.],\n",
       "       [1796., 1953., 1771., 1659., 1642., 1560., 1764.],\n",
       "       [1953., 1771., 1659., 1642., 1560., 1764., 1972.],\n",
       "       [1771., 1659., 1642., 1560., 1764., 1972., 2179.],\n",
       "       [1659., 1642., 1560., 1764., 1972., 2179., 1702.],\n",
       "       [1642., 1560., 1764., 1972., 2179., 1702., 1854.],\n",
       "       [1560., 1764., 1972., 2179., 1702., 1854., 1731.],\n",
       "       [1764., 1972., 2179., 1702., 1854., 1731., 1696.],\n",
       "       [1972., 2179., 1702., 1854., 1731., 1696., 1765.],\n",
       "       [2179., 1702., 1854., 1731., 1696., 1765., 1885.],\n",
       "       [1702., 1854., 1731., 1696., 1765., 1885., 2201.],\n",
       "       [1854., 1731., 1696., 1765., 1885., 2201., 1948.],\n",
       "       [1731., 1696., 1765., 1885., 2201., 1948., 2402.],\n",
       "       [1696., 1765., 1885., 2201., 1948., 2402., 2340.],\n",
       "       [1765., 1885., 2201., 1948., 2402., 2340., 2305.],\n",
       "       [1885., 2201., 1948., 2402., 2340., 2305., 2429.],\n",
       "       [2201., 1948., 2402., 2340., 2305., 2429., 2361.],\n",
       "       [1948., 2402., 2340., 2305., 2429., 2361., 2620.],\n",
       "       [2402., 2340., 2305., 2429., 2361., 2620., 2453.],\n",
       "       [2340., 2305., 2429., 2361., 2620., 2453., 2063.],\n",
       "       [2305., 2429., 2361., 2620., 2453., 2063., 2090.],\n",
       "       [2429., 2361., 2620., 2453., 2063., 2090., 2752.],\n",
       "       [2361., 2620., 2453., 2063., 2090., 2752., 2363.],\n",
       "       [2620., 2453., 2063., 2090., 2752., 2363., 2564.],\n",
       "       [2453., 2063., 2090., 2752., 2363., 2564., 3086.],\n",
       "       [2063., 2090., 2752., 2363., 2564., 3086., 2719.],\n",
       "       [2090., 2752., 2363., 2564., 3086., 2719., 2250.],\n",
       "       [2752., 2363., 2564., 3086., 2719., 2250., 3154.],\n",
       "       [2363., 2564., 3086., 2719., 2250., 3154., 1738.],\n",
       "       [2564., 3086., 2719., 2250., 3154., 1738., 2193.],\n",
       "       [3086., 2719., 2250., 3154., 1738., 2193., 2232.],\n",
       "       [2719., 2250., 3154., 1738., 2193., 2232., 2933.],\n",
       "       [2250., 3154., 1738., 2193., 2232., 2933., 2638.],\n",
       "       [3154., 1738., 2193., 2232., 2933., 2638., 1723.],\n",
       "       [1738., 2193., 2232., 2933., 2638., 1723., 1935.],\n",
       "       [2193., 2232., 2933., 2638., 1723., 1935., 1919.],\n",
       "       [2232., 2933., 2638., 1723., 1935., 1919., 2176.],\n",
       "       [2933., 2638., 1723., 1935., 1919., 2176., 2700.],\n",
       "       [2638., 1723., 1935., 1919., 2176., 2700., 3304.],\n",
       "       [1723., 1935., 1919., 2176., 2700., 3304., 2660.],\n",
       "       [1935., 1919., 2176., 2700., 3304., 2660., 1551.],\n",
       "       [1919., 2176., 2700., 3304., 2660., 1551., 1540.],\n",
       "       [2176., 2700., 3304., 2660., 1551., 1540., 1844.],\n",
       "       [2700., 3304., 2660., 1551., 1540., 1844., 1887.],\n",
       "       [3304., 2660., 1551., 1540., 1844., 1887., 2118.],\n",
       "       [2660., 1551., 1540., 1844., 1887., 2118., 2556.],\n",
       "       [1551., 1540., 1844., 1887., 2118., 2556., 2236.],\n",
       "       [1540., 1844., 1887., 2118., 2556., 2236., 1586.],\n",
       "       [1844., 1887., 2118., 2556., 2236., 1586., 3428.],\n",
       "       [1887., 2118., 2556., 2236., 1586., 3428., 2064.],\n",
       "       [2118., 2556., 2236., 1586., 3428., 2064., 1966.],\n",
       "       [2556., 2236., 1586., 3428., 2064., 1966., 2317.],\n",
       "       [2236., 1586., 3428., 2064., 1966., 2317., 3075.],\n",
       "       [1586., 3428., 2064., 1966., 2317., 3075., 2818.],\n",
       "       [3428., 2064., 1966., 2317., 3075., 2818., 2275.],\n",
       "       [2064., 1966., 2317., 3075., 2818., 2275., 4209.],\n",
       "       [1966., 2317., 3075., 2818., 2275., 4209., 4068.],\n",
       "       [2317., 3075., 2818., 2275., 4209., 4068., 2085.],\n",
       "       [3075., 2818., 2275., 4209., 4068., 2085., 3265.],\n",
       "       [2818., 2275., 4209., 4068., 2085., 3265., 4742.],\n",
       "       [2275., 4209., 4068., 2085., 3265., 4742., 4069.],\n",
       "       [4209., 4068., 2085., 3265., 4742., 4069., 1340.],\n",
       "       [4068., 2085., 3265., 4742., 4069., 1340., 1343.],\n",
       "       [2085., 3265., 4742., 4069., 1340., 1343., 1914.],\n",
       "       [3265., 4742., 4069., 1340., 1343., 1914., 1561.],\n",
       "       [4742., 4069., 1340., 1343., 1914., 1561., 1922.],\n",
       "       [4069., 1340., 1343., 1914., 1561., 1922., 2732.],\n",
       "       [1340., 1343., 1914., 1561., 1922., 2732., 2454.],\n",
       "       [1343., 1914., 1561., 1922., 2732., 2454., 1363.],\n",
       "       [1914., 1561., 1922., 2732., 2454., 1363., 2556.],\n",
       "       [1561., 1922., 2732., 2454., 1363., 2556., 2294.],\n",
       "       [1922., 2732., 2454., 1363., 2556., 2294., 1908.],\n",
       "       [2732., 2454., 1363., 2556., 2294., 1908., 2143.],\n",
       "       [2454., 1363., 2556., 2294., 1908., 2143., 2775.],\n",
       "       [1363., 2556., 2294., 1908., 2143., 2775., 2330.],\n",
       "       [2556., 2294., 1908., 2143., 2775., 2330., 1341.],\n",
       "       [2294., 1908., 2143., 2775., 2330., 1341., 1711.],\n",
       "       [1908., 2143., 2775., 2330., 1341., 1711., 1647.],\n",
       "       [2143., 2775., 2330., 1341., 1711., 1647., 1632.],\n",
       "       [2775., 2330., 1341., 1711., 1647., 1632., 2901.],\n",
       "       [2330., 1341., 1711., 1647., 1632., 2901., 3035.],\n",
       "       [1341., 1711., 1647., 1632., 2901., 3035., 2495.],\n",
       "       [1711., 1647., 1632., 2901., 3035., 2495., 1387.],\n",
       "       [1647., 1632., 2901., 3035., 2495., 1387., 1551.],\n",
       "       [1632., 2901., 3035., 2495., 1387., 1551., 3593.],\n",
       "       [2901., 3035., 2495., 1387., 1551., 3593., 1589.],\n",
       "       [3035., 2495., 1387., 1551., 3593., 1589., 2274.]])"
      ]
     },
     "execution_count": 121,
     "metadata": {},
     "output_type": "execute_result"
    }
   ],
   "source": [
    "pack = making_dataset(data_by_day)\n",
    "pack[1]"
   ]
  },
  {
   "cell_type": "code",
   "execution_count": 122,
   "metadata": {},
   "outputs": [
    {
     "data": {
      "text/plain": [
       "array([1705., 1744., 1752., 1720., 1796., 1953., 1771., 1659., 1642.,\n",
       "       1560., 1764., 1972., 2179., 1702., 1854., 1731., 1696., 1765.,\n",
       "       1885., 2201., 1948., 2402., 2340., 2305., 2429., 2361., 2620.,\n",
       "       2453., 2063., 2090., 2752., 2363., 2564., 3086., 2719., 2250.,\n",
       "       3154., 1738., 2193., 2232., 2933., 2638., 1723., 1935., 1919.,\n",
       "       2176., 2700., 3304., 2660., 1551., 1540., 1844., 1887., 2118.,\n",
       "       2556., 2236., 1586., 3428., 2064., 1966., 2317., 3075., 2818.,\n",
       "       2275., 4209., 4068., 2085., 3265., 4742., 4069., 1340., 1343.,\n",
       "       1914., 1561., 1922., 2732., 2454., 1363., 2556., 2294., 1908.,\n",
       "       2143., 2775., 2330., 1341., 1711., 1647., 1632., 2901., 3035.,\n",
       "       2495., 1387., 1551., 3593., 1589., 2274., 3104.])"
      ]
     },
     "execution_count": 122,
     "metadata": {},
     "output_type": "execute_result"
    }
   ],
   "source": [
    "pack[3]"
   ]
  }
 ],
 "metadata": {
  "kernelspec": {
   "display_name": "datascience",
   "language": "python",
   "name": "python3"
  },
  "language_info": {
   "codemirror_mode": {
    "name": "ipython",
    "version": 3
   },
   "file_extension": ".py",
   "mimetype": "text/x-python",
   "name": "python",
   "nbconvert_exporter": "python",
   "pygments_lexer": "ipython3",
   "version": "3.9.13 (main, Aug 25 2022, 18:29:29) \n[Clang 12.0.0 ]"
  },
  "orig_nbformat": 4,
  "vscode": {
   "interpreter": {
    "hash": "596b88989fc0dc1fed1e4e461c9c9f08188a37ef0bdca6efc263739311be1bbe"
   }
  }
 },
 "nbformat": 4,
 "nbformat_minor": 2
}
